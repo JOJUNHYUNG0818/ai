{
  "cells": [
    {
      "cell_type": "markdown",
      "metadata": {
        "id": "view-in-github",
        "colab_type": "text"
      },
      "source": [
        "<a href=\"https://colab.research.google.com/github/JOJUNHYUNG0818/ai/blob/%2BdeepL/lec6_alexnet_ipynb.ipynb\" target=\"_parent\"><img src=\"https://colab.research.google.com/assets/colab-badge.svg\" alt=\"Open In Colab\"/></a>"
      ]
    },
    {
      "cell_type": "code",
      "execution_count": null,
      "metadata": {
        "id": "9655f383"
      },
      "outputs": [],
      "source": [
        "import numpy as np\n",
        "import os\n",
        "import matplotlib.pyplot as plt\n",
        "import tensorflow as tf\n",
        "import tensorflow.keras.backend as K\n",
        "from tensorflow.keras.preprocessing import image\n",
        "from tensorflow.keras.preprocessing.image import ImageDataGenerator"
      ],
      "id": "9655f383"
    },
    {
      "cell_type": "code",
      "source": [
        "# 학습 및 테스트용 CIFAR-10 데이터셋 로드\n",
        "(x_train, y_train), (x_test, y_test) = tf.keras.datasets.cifar10.load_data()\n",
        "x_train, x_test = x_train / 255.0, x_test / 255.0  # 0과 1로 정규화 되어야 한다.\n",
        "\n",
        "print(x_train.shape, y_train.shape)\n",
        "print(x_test.shape, y_test.shape)"
      ],
      "metadata": {
        "colab": {
          "base_uri": "https://localhost:8080/"
        },
        "id": "0ULtgwMLv_g6",
        "outputId": "c5cfd9d5-aaca-4957-bf60-1c9c0f0dc5ee"
      },
      "id": "0ULtgwMLv_g6",
      "execution_count": null,
      "outputs": [
        {
          "output_type": "stream",
          "name": "stdout",
          "text": [
            "Downloading data from https://www.cs.toronto.edu/~kriz/cifar-10-python.tar.gz\n",
            "170498071/170498071 [==============================] - 4s 0us/step\n",
            "(50000, 32, 32, 3) (50000, 1)\n",
            "(10000, 32, 32, 3) (10000, 1)\n"
          ]
        }
      ]
    },
    {
      "cell_type": "code",
      "execution_count": null,
      "metadata": {
        "id": "adad5e11"
      },
      "outputs": [],
      "source": [
        "# Class 개수와 이미지 크기 지정\n",
        "NUM_CLASSES = 10            # CIFAR-10 Dataset 은 10개의 class 를 가지고 있음\n",
        "IMG_HEIGHT = 32             # CIFAR-10 Dataset 의 이미지 크기 32x32x3\n",
        "IMG_WIDTH = 32\n",
        "\n",
        "# Epoch 횟수와 batch size, learning rate, dropout ratio 지정\n",
        "EPOCHS = 2                 # 학습 반복 횟수 지정  원래는 30\n",
        "BATCH_SIZE = 32             # 학습에 사용할 mini-batch 크기\n",
        "LEARNING_RATE = 0.0001      # Optimizer 에 사용할 learning rate\n",
        "DROP_OUT_RATIO = 0.5        # AlexNet 에 사용된 Dropout 비율"
      ],
      "id": "adad5e11"
    },
    {
      "cell_type": "code",
      "source": [
        "# One-hot encoding 형태로 label 데이터 변경\n",
        "# print('ex) y_train[0]=', y_train[0])\n",
        "# y_train = tf.keras.utils.to_categorical(y_train, NUM_CLASSES)\n",
        "# plt.imshow( x_train[1])"
      ],
      "metadata": {
        "id": "5KU-E-EJw9bD"
      },
      "id": "5KU-E-EJw9bD",
      "execution_count": null,
      "outputs": []
    },
    {
      "cell_type": "code",
      "execution_count": null,
      "metadata": {
        "colab": {
          "base_uri": "https://localhost:8080/"
        },
        "id": "c10de28e",
        "outputId": "4edbadc7-ffb7-42ee-a4d8-b7fab3f7d11e"
      },
      "outputs": [
        {
          "output_type": "stream",
          "name": "stdout",
          "text": [
            "ex) after one-hot conversion, y_train[0]= [0. 0. 0. 0. 0. 0. 1. 0. 0. 0.]\n",
            "y_train.shape=  (50000, 10) , y_test.shape =  (10000, 10)\n"
          ]
        }
      ],
      "source": [
        "y_train = tf.keras.utils.to_categorical(y_train, NUM_CLASSES)\n",
        "y_test = tf.keras.utils.to_categorical(y_test, NUM_CLASSES)\n",
        "\n",
        "print('ex) after one-hot conversion, y_train[0]=', y_train[0])\n",
        "print('y_train.shape= ', y_train.shape, ', y_test.shape = ', y_test.shape)"
      ],
      "id": "c10de28e"
    },
    {
      "cell_type": "code",
      "execution_count": null,
      "metadata": {
        "id": "c61e9403"
      },
      "outputs": [],
      "source": [
        "def AlexNet_cifar10():\n",
        "    model = tf.keras.Sequential([\n",
        "        #layer 1\n",
        "        # 첫 번째 convolution layer\n",
        "        # Kernel size : 3x3\n",
        "        # Input channel : 3-channels\n",
        "        # Output channel : 96-channels\n",
        "        # Stride : 1\n",
        "        # Activation : ReLU\n",
        "        tf.keras.layers.Conv2D(filters=96,                              # 출력 channel 개수\n",
        "                              kernel_size=(3, 3),                       # Convolution kernel size\n",
        "                              strides=1,                                # stride\n",
        "                              padding='same',                           # zero-padding 사용여부 'same' : 사용 / 'valid' : 미사용\n",
        "                              activation=tf.keras.activations.relu,     # 활성함수 지정(ReLU)\n",
        "                              input_shape=(IMG_HEIGHT, IMG_WIDTH, 3)),  # 입력 영상 사이즈 지정(첫번째 layer에만 지정)\n",
        "        # Overlapped Pooling\n",
        "        # Window size : 3x3\n",
        "        # Stride : 2\n",
        "        tf.keras.layers.MaxPool2D(pool_size=(3, 3),                     # Pooling window 크기 (3x3)\n",
        "                                 strides=2,                             # stride 2\n",
        "                                 padding='same'),                       # zero-padding 사용여부\n",
        "        # Batch Normalization\n",
        "        tf.keras.layers.BatchNormalization(),                           # Batch normalization\n",
        "\n",
        "        #layer 2\n",
        "        # 두 번째 convolution layer\n",
        "        # Kernel size : 3x3\n",
        "        # Input channel : 96-channels\n",
        "        # Output channel : 256-channels\n",
        "        # Stride : 1\n",
        "        # Activation : ReLU\n",
        "        tf.keras.layers.Conv2D(filters=256,                             # 출력 channel 개수\n",
        "                              kernel_size=(3, 3),                       # Convolution kernel size\n",
        "                              strides=1,                                # stride\n",
        "                              padding='same',                           # zero-padding 사용여부 'same' : 사용 / 'valid' : 미사용\n",
        "                              activation=tf.keras.activations.relu),    # 활성함수 지정(ReLU)\n",
        "        # Overlapped Pooling\n",
        "        # Window size : 3x3\n",
        "        # Stride : 2\n",
        "        tf.keras.layers.MaxPool2D(pool_size=(3, 3),                     # Pooling window 크기 (3x3)\n",
        "                                 strides=2,                             # stride 2\n",
        "                                 padding='same'),                       # zero-padding 사용여부\n",
        "        # Batch Normalization\n",
        "        tf.keras.layers.BatchNormalization(),                           # Batch normalization\n",
        "\n",
        "        #layer 3\n",
        "        # 세 번째 convolution layer\n",
        "        # Kernel size : 3x3\n",
        "        # Input channel : 256-channels\n",
        "        # Output channel : 384-channels\n",
        "        # Stride : 1\n",
        "        # Activation : ReLU\n",
        "        tf.keras.layers.Conv2D(filters=384,                             # 출력 channel 개수\n",
        "                              kernel_size=(3, 3),                       # Convolution kernel size\n",
        "                              strides=1,                                # stride\n",
        "                              padding='same',                           # zero-padding 사용여부 'same' : 사용 / 'valid' : 미사용\n",
        "                              activation=tf.keras.activations.relu),    # 활성함수 지정(ReLU)\n",
        "\n",
        "        #layer 4\n",
        "        # 네 번째 convolution layer\n",
        "        # Kernel size : 3x3\n",
        "        # Input channel : 384-channels\n",
        "        # Output channel : 384-channels\n",
        "        # Stride : 1\n",
        "        # Activation : ReLU\n",
        "        tf.keras.layers.Conv2D(filters=384,                             # 출력 channel 개수\n",
        "                              kernel_size=(3, 3),                       # Convolution kernel size\n",
        "                              strides=1,                                # stride\n",
        "                              padding='same',                           # zero-padding 사용여부 'same' : 사용 / 'valid' : 미사용\n",
        "                              activation=tf.keras.activations.relu),    # 활성함수 지정(ReLU)\n",
        "\n",
        "        #layer 5\n",
        "        # 다섯 번째 convolution layer\n",
        "        # Kernel size : 3x3\n",
        "        # Input channel : 384-channels\n",
        "        # Output channel : 256-channels\n",
        "        # Stride : 1\n",
        "        # Activation : ReLU\n",
        "        tf.keras.layers.Conv2D(filters=256,                             # 출력 channel 개수\n",
        "                              kernel_size=(3, 3),                       # Convolution kernel size\n",
        "                              strides=1,                                # stride\n",
        "                              padding='same',                           # zero-padding 사용여부 'same' : 사용 / 'valid' : 미사용\n",
        "                              activation=tf.keras.activations.relu),    # 활성함수 지정(ReLU)\n",
        "        # Overlapped Pooling\n",
        "        # Window size : 3x3\n",
        "        # Stride : 2\n",
        "        tf.keras.layers.MaxPool2D(pool_size=(3, 3),                     # Pooling window 크기 (3x3)\n",
        "                                 strides=2,                             # stride 2\n",
        "                                 padding='same'),                       # zero-padding 사용여부\n",
        "        # Batch Normalization\n",
        "        tf.keras.layers.BatchNormalization(),                           # Batch normalization\n",
        "\n",
        "        #layer 6\n",
        "        # Flatten() : (Batch, Height, Width, Channel) -> (Batch, Height*Width*Channel)\n",
        "        tf.keras.layers.Flatten(),\n",
        "        # Dense Layer\n",
        "        # Input Units : Height*Width*Channel\n",
        "        # Output Units : 4096\n",
        "        # Activation : ReLU\n",
        "        tf.keras.layers.Dense(units=4096,                               # Dense layer 출력 개수\n",
        "                             activation=tf.keras.activations.relu),     # 활성함수 지정(ReLU)\n",
        "        tf.keras.layers.Dropout(rate=DROP_OUT_RATIO),                   # Dropout\n",
        "\n",
        "        #layer 7\n",
        "        # Dense Layer\n",
        "        # Input Units : 4096\n",
        "        # Output Units : 4096\n",
        "        # Activation : ReLU\n",
        "        tf.keras.layers.Dense(units=4096,                               # Dense layer 출력 개수\n",
        "                             activation=tf.keras.activations.relu),     # 활성함수 지정(ReLU)\n",
        "        # Dropout\n",
        "        tf.keras.layers.Dropout(rate=DROP_OUT_RATIO),                   # Dropout\n",
        "\n",
        "        #layer 8\n",
        "        # Dense Layer\n",
        "        # Input Units : 4096\n",
        "        # Output Units : NUM_CLASSES(CIFAR-10 : 10)\n",
        "        # Activation : Softmax\n",
        "        tf.keras.layers.Dense(units=NUM_CLASSES,                        # Dense layer 출력 개수\n",
        "                             activation=tf.keras.activations.softmax)   # 활성함수 지정(softmax)\n",
        "    ])\n",
        "\n",
        "    return model                # Keras Sequential Model 로 생성한 AlexNet 리턴"
      ],
      "id": "c61e9403"
    },
    {
      "cell_type": "code",
      "execution_count": null,
      "metadata": {
        "id": "28dac3a7"
      },
      "outputs": [],
      "source": [
        "# AlexNet 모델 생성\n",
        "model = AlexNet_cifar10()\n",
        "\n",
        "# 학습에 사용할 Adam optimizer 및 loss function 생성\n",
        "optimizer = tf.keras.optimizers.Adam(learning_rate=LEARNING_RATE)\n",
        "losses = tf.keras.losses.CategoricalCrossentropy()\n",
        "\n",
        "# 모델 컴파일(optimizer, loss 지정)\n",
        "model.compile(optimizer=optimizer,\n",
        "              loss=losses,\n",
        "              metrics=['acc'])"
      ],
      "id": "28dac3a7"
    },
    {
      "cell_type": "code",
      "execution_count": null,
      "metadata": {
        "colab": {
          "base_uri": "https://localhost:8080/"
        },
        "id": "d6ea9b8d",
        "outputId": "e0eeb3fd-70e9-4f2c-cdfc-2528db7a63fe"
      },
      "outputs": [
        {
          "output_type": "stream",
          "name": "stdout",
          "text": [
            "Model: \"sequential\"\n",
            "_________________________________________________________________\n",
            " Layer (type)                Output Shape              Param #   \n",
            "=================================================================\n",
            " conv2d (Conv2D)             (None, 32, 32, 96)        2688      \n",
            "                                                                 \n",
            " max_pooling2d (MaxPooling2  (None, 16, 16, 96)        0         \n",
            " D)                                                              \n",
            "                                                                 \n",
            " batch_normalization (Batch  (None, 16, 16, 96)        384       \n",
            " Normalization)                                                  \n",
            "                                                                 \n",
            " conv2d_1 (Conv2D)           (None, 16, 16, 256)       221440    \n",
            "                                                                 \n",
            " max_pooling2d_1 (MaxPoolin  (None, 8, 8, 256)         0         \n",
            " g2D)                                                            \n",
            "                                                                 \n",
            " batch_normalization_1 (Bat  (None, 8, 8, 256)         1024      \n",
            " chNormalization)                                                \n",
            "                                                                 \n",
            " conv2d_2 (Conv2D)           (None, 8, 8, 384)         885120    \n",
            "                                                                 \n",
            " conv2d_3 (Conv2D)           (None, 8, 8, 384)         1327488   \n",
            "                                                                 \n",
            " conv2d_4 (Conv2D)           (None, 8, 8, 256)         884992    \n",
            "                                                                 \n",
            " max_pooling2d_2 (MaxPoolin  (None, 4, 4, 256)         0         \n",
            " g2D)                                                            \n",
            "                                                                 \n",
            " batch_normalization_2 (Bat  (None, 4, 4, 256)         1024      \n",
            " chNormalization)                                                \n",
            "                                                                 \n",
            " flatten (Flatten)           (None, 4096)              0         \n",
            "                                                                 \n",
            " dense (Dense)               (None, 4096)              16781312  \n",
            "                                                                 \n",
            " dropout (Dropout)           (None, 4096)              0         \n",
            "                                                                 \n",
            " dense_1 (Dense)             (None, 4096)              16781312  \n",
            "                                                                 \n",
            " dropout_1 (Dropout)         (None, 4096)              0         \n",
            "                                                                 \n",
            " dense_2 (Dense)             (None, 10)                40970     \n",
            "                                                                 \n",
            "=================================================================\n",
            "Total params: 36927754 (140.87 MB)\n",
            "Trainable params: 36926538 (140.86 MB)\n",
            "Non-trainable params: 1216 (4.75 KB)\n",
            "_________________________________________________________________\n"
          ]
        }
      ],
      "source": [
        "# 모델 summary 출력\n",
        "model.summary()"
      ],
      "id": "d6ea9b8d"
    },
    {
      "cell_type": "code",
      "execution_count": null,
      "metadata": {
        "colab": {
          "base_uri": "https://localhost:8080/"
        },
        "id": "ff7f0e64",
        "scrolled": false,
        "outputId": "6732cc95-eb4e-4f22-a355-58889e53e5a7"
      },
      "outputs": [
        {
          "output_type": "stream",
          "name": "stdout",
          "text": [
            "Epoch 1/2\n",
            "1250/1250 [==============================] - 40s 23ms/step - loss: 1.4446 - acc: 0.4977 - val_loss: 1.0787 - val_acc: 0.6148\n",
            "Epoch 2/2\n",
            "1250/1250 [==============================] - 27s 22ms/step - loss: 0.9483 - acc: 0.6690 - val_loss: 0.8499 - val_acc: 0.7037\n"
          ]
        }
      ],
      "source": [
        "# 학습 수행\n",
        "history = model.fit(x_train, y_train,          # 학습용 image(x_train)과 label(y_train)\n",
        "                   batch_size=BATCH_SIZE,      # batch size 입력\n",
        "                   epochs=EPOCHS,              # epoch 횟수 입력\n",
        "                   validation_split=0.2,       # 매 epoch 학습 종료 시 validation에 사용할 데이터 비율 설정(20%)\n",
        "                   shuffle=True)"
      ],
      "id": "ff7f0e64"
    },
    {
      "cell_type": "code",
      "execution_count": null,
      "metadata": {
        "colab": {
          "base_uri": "https://localhost:8080/",
          "height": 699
        },
        "id": "54ff52e1",
        "outputId": "10e5352f-dfa2-4afc-bc08-9ab47e6bf133"
      },
      "outputs": [
        {
          "output_type": "display_data",
          "data": {
            "text/plain": [
              "<Figure size 800x800 with 2 Axes>"
            ],
            "image/png": "[encoded data removed]"
          },
          "metadata": {}
        }
      ],
      "source": [
        "# Training accuracy 및 validation accuracy\n",
        "acc = history.history['acc']\n",
        "val_acc = history.history['val_acc']\n",
        "\n",
        "# Training loss 및 validation loss\n",
        "loss = history.history['loss']\n",
        "val_loss = history.history['val_loss']\n",
        "\n",
        "# matplotlib 를 이용하여 accuracy 및 loss 출력\n",
        "plt.figure(figsize=(8, 8))\n",
        "plt.subplot(2, 1, 1)\n",
        "plt.plot(acc, label='Training Accuracy')\n",
        "plt.plot(val_acc, label='Validation Accuracy')\n",
        "plt.legend(loc='lower right')\n",
        "plt.ylabel('Accuracy')\n",
        "plt.ylim([0, 1])\n",
        "plt.title('Training and Validation Accuracy')\n",
        "\n",
        "plt.subplot(2, 1, 2)\n",
        "plt.plot(loss, label='Training Loss')\n",
        "plt.plot(val_loss, label='Validation Loss')\n",
        "plt.legend(loc='upper right')\n",
        "plt.ylabel('Cross Entropy')\n",
        "plt.ylim([0, max(plt.ylim())])\n",
        "plt.title('Training and Validation Loss')\n",
        "plt.show()"
      ],
      "id": "54ff52e1"
    },
    {
      "cell_type": "code",
      "execution_count": null,
      "metadata": {
        "id": "fb94d2c0",
        "outputId": "6f2542bc-5690-4721-b8da-de910c762ec0",
        "colab": {
          "base_uri": "https://localhost:8080/"
        }
      },
      "outputs": [
        {
          "output_type": "stream",
          "name": "stdout",
          "text": [
            "10000/10000 [==============================] - 43s 4ms/step - loss: 0.8652 - acc: 0.6953\n",
            "Test Loss : 0.8652, Test Accuracy : 69.53%\n"
          ]
        }
      ],
      "source": [
        "# Test 데이터를 이용한 학습 모델 검증\n",
        "# model.evaluate() 를 통해 모델 검증\n",
        "test_loss, test_acc = model.evaluate(x_test, y_test,\n",
        "          batch_size=1, verbose=1)\n",
        "print('Test Loss : {:.4f}, Test Accuracy : {:.2f}%'.format(test_loss, 100.*test_acc))"
      ],
      "id": "fb94d2c0"
    }
  ],
  "metadata": {
    "colab": {
      "provenance": [],
      "gpuType": "T4",
      "include_colab_link": true
    },
    "kernelspec": {
      "display_name": "Python 3",
      "name": "python3"
    },
    "language_info": {
      "codemirror_mode": {
        "name": "ipython",
        "version": 3
      },
      "file_extension": ".py",
      "mimetype": "text/x-python",
      "name": "python",
      "nbconvert_exporter": "python",
      "pygments_lexer": "ipython3",
      "version": "3.8.12"
    },
    "accelerator": "GPU"
  },
  "nbformat": 4,
  "nbformat_minor": 5
}