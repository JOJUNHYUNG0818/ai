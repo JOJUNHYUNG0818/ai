{
  "nbformat": 4,
  "nbformat_minor": 0,
  "metadata": {
    "colab": {
      "provenance": [],
      "authorship_tag": "ABX9TyMWIltGwJ/6RDLHNznRFasr",
      "include_colab_link": true
    },
    "kernelspec": {
      "name": "python3",
      "display_name": "Python 3"
    },
    "language_info": {
      "name": "python"
    }
  },
  "cells": [
    {
      "cell_type": "markdown",
      "metadata": {
        "id": "view-in-github",
        "colab_type": "text"
      },
      "source": [
        "<a href=\"https://colab.research.google.com/github/JOJUNHYUNG0818/ai/blob/master/pandas.ipynb\" target=\"_parent\"><img src=\"https://colab.research.google.com/assets/colab-badge.svg\" alt=\"Open In Colab\"/></a>"
      ]
    },
    {
      "cell_type": "code",
      "execution_count": null,
      "metadata": {
        "colab": {
          "base_uri": "https://localhost:8080/"
        },
        "id": "jQ9ULNxmpsBv",
        "outputId": "c247b0ca-8076-438f-ceea-2cb413152247"
      },
      "outputs": [
        {
          "output_type": "stream",
          "name": "stdout",
          "text": [
            "0    1\n",
            "1    2\n",
            "2    3\n",
            "3    4\n",
            "dtype: int64\n",
            "a    1\n",
            "b    2\n",
            "c    3\n",
            "dtype: int64\n",
            "0     91\n",
            "1    2.5\n",
            "2     문자\n",
            "dtype: object\n",
            "object\n",
            "RangeIndex(start=0, stop=3, step=1)\n",
            "문자\n"
          ]
        }
      ],
      "source": [
        "import pandas as pd\n",
        "a=pd.Series([1,2,3,4])\n",
        "print(a)\n",
        "b=pd.Series([1,2,3],index=['a','b','c'])\n",
        "print(b)\n",
        "data = [91,2.5,'문자']\n",
        "pd_s1=pd.Series(data)\n",
        "print(pd_s1)\n",
        "print(pd_s1.dtype)\n",
        "print(pd_s1.index)\n",
        "\n",
        "print(pd_s1[2])   #2번행\n",
        "print(pd_s1[1,2]) #1번,2번행"
      ]
    },
    {
      "cell_type": "code",
      "source": [
        "import numpy as np\n",
        "np.random.seed(0)\n",
        "a2=pd.Series(np.random.randint(10000,20000,size=(10,)))\n",
        "print(a2)\n"
      ],
      "metadata": {
        "colab": {
          "base_uri": "https://localhost:8080/"
        },
        "id": "g0tSvpRC-hh8",
        "outputId": "a9b25c34-fbb0-4db5-b880-9223370d77c5"
      },
      "execution_count": null,
      "outputs": [
        {
          "output_type": "stream",
          "name": "stdout",
          "text": [
            "0    12732\n",
            "1    19845\n",
            "2    13264\n",
            "3    14859\n",
            "4    19225\n",
            "5    17891\n",
            "6    14373\n",
            "7    15874\n",
            "8    16744\n",
            "9    13468\n",
            "dtype: int64\n"
          ]
        }
      ]
    },
    {
      "cell_type": "code",
      "source": [
        "np.random.seed(0)\n",
        "a2=pd.Series(np.random.randint(100,200,size=(10,)))\n",
        "print(a2[a2>150])"
      ],
      "metadata": {
        "colab": {
          "base_uri": "https://localhost:8080/"
        },
        "id": "rDtZ-axm_sXs",
        "outputId": "130091b9-a99c-41c3-9c5b-579ec12d2e98"
      },
      "execution_count": null,
      "outputs": [
        {
          "output_type": "stream",
          "name": "stdout",
          "text": [
            "2    164\n",
            "3    167\n",
            "4    167\n",
            "6    183\n",
            "9    187\n",
            "dtype: int64\n"
          ]
        }
      ]
    },
    {
      "cell_type": "code",
      "source": [
        "a4 = pd.Series(['마게팅','경영','개발','기획','인사'], index=['a','b','c','d','e'])\n",
        "#print(a4)\n",
        "print(a4[1])\n",
        "print(a4['a'])\n",
        "print(a4.values)\n",
        "print(a4.index)\n",
        "print(a4[['c','a']])\n"
      ],
      "metadata": {
        "colab": {
          "base_uri": "https://localhost:8080/"
        },
        "id": "PK55seiuAXPT",
        "outputId": "d7b7732a-ed2c-4435-f733-b9f8ad301ad5"
      },
      "execution_count": null,
      "outputs": [
        {
          "output_type": "stream",
          "name": "stdout",
          "text": [
            "경영\n",
            "마게팅\n",
            "['마게팅' '경영' '개발' '기획' '인사']\n",
            "Index(['a', 'b', 'c', 'd', 'e'], dtype='object')\n",
            "c     개발\n",
            "a    마게팅\n",
            "dtype: object\n"
          ]
        }
      ]
    },
    {
      "cell_type": "code",
      "source": [
        "# 결측값 NaN (Not a Number)\n",
        "a5=pd.Series(['선화','강호',np.nan,'소정','우영'])\n",
        "a5\n",
        "# 결측값 찾기 isnull() , isna()\n",
        "a5.isnull()\n",
        "a5[a5.isnull()]\n",
        "a5[a5.notnull()]"
      ],
      "metadata": {
        "colab": {
          "base_uri": "https://localhost:8080/"
        },
        "id": "6m8oAUhMC1vt",
        "outputId": "acd31bf7-3ec8-4859-af43-b0b714f1e959"
      },
      "execution_count": null,
      "outputs": [
        {
          "output_type": "execute_result",
          "data": {
            "text/plain": [
              "0    선화\n",
              "1    강호\n",
              "3    소정\n",
              "4    우영\n",
              "dtype: object"
            ]
          },
          "metadata": {},
          "execution_count": 34
        }
      ]
    },
    {
      "cell_type": "code",
      "source": [
        "# 슬라이싱\n",
        "a6=pd.Series(np.arange(100,150,10))\n",
        "a6[1:3]\n",
        "a6.index=['a','b','c','d','e']\n",
        "a6"
      ],
      "metadata": {
        "colab": {
          "base_uri": "https://localhost:8080/"
        },
        "id": "97g7c9srEuCt",
        "outputId": "5012902f-224f-445c-ffcd-6fc9b8c8663c"
      },
      "execution_count": null,
      "outputs": [
        {
          "output_type": "execute_result",
          "data": {
            "text/plain": [
              "a    100\n",
              "b    110\n",
              "c    120\n",
              "d    130\n",
              "e    140\n",
              "dtype: int64"
            ]
          },
          "metadata": {},
          "execution_count": 38
        }
      ]
    },
    {
      "cell_type": "code",
      "source": [
        "# 시리즈 문제\n",
        "a1=pd.Series(np.arange(3,12,2),dtype=np.float32)\n",
        "#a1\n",
        "a2=pd.Series(['가','나','다','라','마'],dtype=object)\n",
        "#a2\n",
        "a3=pd.Series([10,20,30,40,50],index=['가','나','다','라','마'],dtype=np.int64)\n",
        "#a3\n",
        "#print(a3[['나','라']])\n",
        "\n",
        "np.random.seed(20)\n",
        "sample2 = pd.Series(np.random.randint(100, 200, size=(15,)))\n",
        "#sample2[sample2<160]\n",
        "sample2[ (sample2>=130) & (sample2<=170)]\n",
        "a5=pd.Series(['apple',np.nan,'banana','kiwi','gobong'],index=['가','나','다','라','마'])\n",
        "a5\n",
        "sample = pd.Series(['IT서비스', np.nan, '반도체', np.nan, '바이오', '자율주행'])\n",
        "sample\n",
        "sample[sample.isnull()]\n",
        "\n",
        "sample[sample.notnull()]\n",
        "\n",
        "np.random.seed(0)\n",
        "sample = pd.Series(np.random.randint(100, 200, size=(10,)))\n",
        "sample[2:7]\n",
        "np.random.seed(0)\n",
        "sample2 = pd.Series(np.random.randint(100, 200, size=(10,)), index=list('가나다라마바사아자차'))\n",
        "sample2\n",
        "sample2['바':'차']\n",
        "sample2['가':'다']\n",
        "sample2['나':'바']\n",
        "\n"
      ],
      "metadata": {
        "colab": {
          "base_uri": "https://localhost:8080/"
        },
        "id": "ffW8Vo0aK3aN",
        "outputId": "31d0a629-2356-4090-f829-84107a1f96b9"
      },
      "execution_count": null,
      "outputs": [
        {
          "output_type": "execute_result",
          "data": {
            "text/plain": [
              "나    147\n",
              "다    164\n",
              "라    167\n",
              "마    167\n",
              "바    109\n",
              "dtype: int64"
            ]
          },
          "metadata": {},
          "execution_count": 75
        }
      ]
    }
  ]
}