{
  "nbformat": 4,
  "nbformat_minor": 0,
  "metadata": {
    "colab": {
      "provenance": [],
      "authorship_tag": "ABX9TyO1zthOynFxCf3TigSliZFO",
      "include_colab_link": true
    },
    "kernelspec": {
      "name": "python3",
      "display_name": "Python 3"
    },
    "language_info": {
      "name": "python"
    }
  },
  "cells": [
    {
      "cell_type": "markdown",
      "metadata": {
        "id": "view-in-github",
        "colab_type": "text"
      },
      "source": [
        "<a href=\"https://colab.research.google.com/github/JOJUNHYUNG0818/ai/blob/%2BdeepL/handNumber.ipynb\" target=\"_parent\"><img src=\"https://colab.research.google.com/assets/colab-badge.svg\" alt=\"Open In Colab\"/></a>"
      ]
    },
    {
      "cell_type": "code",
      "execution_count": 23,
      "metadata": {
        "id": "LaJN22Vo5mOJ"
      },
      "outputs": [],
      "source": [
        "import tensorflow as tf\n",
        "import numpy as np\n",
        "import matplotlib.pyplot as plt"
      ]
    },
    {
      "cell_type": "code",
      "source": [
        "mnist = tf.keras.datasets.mnist\n",
        "\n",
        "(x_train, y_train), (x_test, y_test) = mnist.load_data()\n"
      ],
      "metadata": {
        "id": "1JWH7t4A6gGm"
      },
      "execution_count": 24,
      "outputs": []
    },
    {
      "cell_type": "code",
      "source": [
        "x_train.shape"
      ],
      "metadata": {
        "colab": {
          "base_uri": "https://localhost:8080/"
        },
        "id": "5VulC_SA6_1U",
        "outputId": "4b799852-1d47-4865-ad6d-f1f89959f0ca"
      },
      "execution_count": 25,
      "outputs": [
        {
          "output_type": "execute_result",
          "data": {
            "text/plain": [
              "(60000, 28, 28)"
            ]
          },
          "metadata": {},
          "execution_count": 25
        }
      ]
    },
    {
      "cell_type": "code",
      "source": [
        "x_test.shape"
      ],
      "metadata": {
        "colab": {
          "base_uri": "https://localhost:8080/"
        },
        "id": "g-a_9PwF7DwW",
        "outputId": "7e7c9348-dd36-4448-a263-9e9d67871006"
      },
      "execution_count": 4,
      "outputs": [
        {
          "output_type": "execute_result",
          "data": {
            "text/plain": [
              "(10000, 28, 28)"
            ]
          },
          "metadata": {},
          "execution_count": 4
        }
      ]
    },
    {
      "cell_type": "code",
      "source": [
        "y_train=tf.keras.utils.to_categorical(y_train,10)\n",
        "y_test=tf.keras.utils.to_categorical(y_test,10)"
      ],
      "metadata": {
        "id": "ksvup6DM7Ijc"
      },
      "execution_count": 15,
      "outputs": []
    },
    {
      "cell_type": "code",
      "source": [
        "# 모델만들기\n",
        "model = tf.keras.models.Sequential([\n",
        "  tf.keras.layers.Flatten(input_shape=(28, 28)), # 1차원으로 평탄화 (입력층)\n",
        "  tf.keras.layers.Dense(128, activation='relu'), # 은닉층 (뉴런수, 활성화함수, ex)input_shape=(13,) 13은 데이터 프레임의 열의수)\n",
        "  tf.keras.layers.Dropout(0.2),\n",
        "  tf.keras.layers.Dense(10, activation='softmax')\n",
        "\n",
        "])\n",
        "\n",
        "model.compile(optimizer='adam',\n",
        "              loss='sparse_categorical_crossentropy',\n",
        "              metrics=['accuracy'])"
      ],
      "metadata": {
        "id": "lC6q-_Q-8V39"
      },
      "execution_count": 26,
      "outputs": []
    },
    {
      "cell_type": "code",
      "source": [
        "# 성능이 제일 좋은 모델 저장하기 digits_model.h5\n",
        "\n",
        "\n",
        "# 모델 체크포인트 콜백 정의\n",
        "checkpoint =tf.keras.callbacks.ModelCheckpoint(filepath='mnist_ditgits_model.h6',\n",
        "                             save_best_only=True,  # 최상의 모델만 저장\n",
        "                             verbose=1)  # 저장 메시지 표시\n",
        "\n",
        "# 학습시에 조기 종료 조건 명사\n",
        "monitor_val_loss =tf.keras.callbacks.EarlyStopping(\n",
        "    monitor='val_loss',  # 모니터링할 지표 (기본값: 'val_loss')\n",
        "    min_delta=0,         # 개선되었다고 판단할 최소 변화량 (기본값: 0)\n",
        "    patience=5,          # 성능이 개선되지 않더라도 학습을 멈출 때까지 기다리는 에포크 수 (기본값: 0)\n",
        "    verbose=0,           # 메시지 출력 레벨 (0, 1, 2 중 하나 선택, 기본값: 0)\n",
        "    mode='auto',         # 모델 성능을 비교할 때 'min', 'max', 'auto' 중 하나 선택 (기본값: 'auto')\n",
        "    baseline=None,       # 모델 성능의 기준값 (기본값: None)\n",
        "    restore_best_weights=False  # 학습 중에 모델의 최상의 가중치를 복원할지 여부 (기본값: False)\n",
        ")\n",
        "\n"
      ],
      "metadata": {
        "id": "XOH-exi5-CId"
      },
      "execution_count": 27,
      "outputs": []
    },
    {
      "cell_type": "code",
      "source": [
        "x_train.shape\n",
        "y_train.shape"
      ],
      "metadata": {
        "colab": {
          "base_uri": "https://localhost:8080/"
        },
        "id": "6Q990jNxHVh3",
        "outputId": "c8e96e4e-b823-4dee-8c3b-7c02322964f6"
      },
      "execution_count": 21,
      "outputs": [
        {
          "output_type": "execute_result",
          "data": {
            "text/plain": [
              "(60000, 10)"
            ]
          },
          "metadata": {},
          "execution_count": 21
        }
      ]
    },
    {
      "cell_type": "code",
      "source": [
        "history = model.fit(x_train, y_train, epochs=10,\n",
        "                    validation_split=0.01,\n",
        "                    validation_data=(x_test,y_test),\n",
        "                    shuffle=True,\n",
        "                    callbacks=[checkpoint,monitor_val_loss])"
      ],
      "metadata": {
        "colab": {
          "base_uri": "https://localhost:8080/"
        },
        "id": "rAHgo-VQDfNW",
        "outputId": "0cf45380-23a2-4fae-fb88-717b8d837414"
      },
      "execution_count": 28,
      "outputs": [
        {
          "output_type": "stream",
          "name": "stdout",
          "text": [
            "Epoch 1/10\n",
            "1873/1875 [============================>.] - ETA: 0s - loss: 2.6929 - accuracy: 0.7695\n",
            "Epoch 1: val_loss improved from inf to 0.50662, saving model to mnist_ditgits_model.h6\n",
            "1875/1875 [==============================] - 8s 4ms/step - loss: 2.6905 - accuracy: 0.7696 - val_loss: 0.5066 - val_accuracy: 0.8889\n",
            "Epoch 2/10\n",
            "1871/1875 [============================>.] - ETA: 0s - loss: 0.5886 - accuracy: 0.8496\n",
            "Epoch 2: val_loss improved from 0.50662 to 0.44951, saving model to mnist_ditgits_model.h6\n",
            "1875/1875 [==============================] - 8s 4ms/step - loss: 0.5889 - accuracy: 0.8495 - val_loss: 0.4495 - val_accuracy: 0.9041\n",
            "Epoch 3/10\n",
            "1872/1875 [============================>.] - ETA: 0s - loss: 0.4636 - accuracy: 0.8784\n",
            "Epoch 3: val_loss improved from 0.44951 to 0.33873, saving model to mnist_ditgits_model.h6\n",
            "1875/1875 [==============================] - 55s 29ms/step - loss: 0.4633 - accuracy: 0.8785 - val_loss: 0.3387 - val_accuracy: 0.9206\n",
            "Epoch 4/10\n",
            "1862/1875 [============================>.] - ETA: 0s - loss: 0.4144 - accuracy: 0.8924\n",
            "Epoch 4: val_loss improved from 0.33873 to 0.28219, saving model to mnist_ditgits_model.h6\n",
            "1875/1875 [==============================] - 7s 4ms/step - loss: 0.4134 - accuracy: 0.8928 - val_loss: 0.2822 - val_accuracy: 0.9331\n",
            "Epoch 5/10\n",
            "1860/1875 [============================>.] - ETA: 0s - loss: 0.3800 - accuracy: 0.9024\n",
            "Epoch 5: val_loss did not improve from 0.28219\n",
            "1875/1875 [==============================] - 7s 4ms/step - loss: 0.3809 - accuracy: 0.9025 - val_loss: 0.2956 - val_accuracy: 0.9379\n",
            "Epoch 6/10\n",
            "1869/1875 [============================>.] - ETA: 0s - loss: 0.3674 - accuracy: 0.9065\n",
            "Epoch 6: val_loss improved from 0.28219 to 0.27177, saving model to mnist_ditgits_model.h6\n",
            "1875/1875 [==============================] - 7s 4ms/step - loss: 0.3674 - accuracy: 0.9065 - val_loss: 0.2718 - val_accuracy: 0.9357\n",
            "Epoch 7/10\n",
            "1870/1875 [============================>.] - ETA: 0s - loss: 0.3466 - accuracy: 0.9111\n",
            "Epoch 7: val_loss did not improve from 0.27177\n",
            "1875/1875 [==============================] - 7s 4ms/step - loss: 0.3468 - accuracy: 0.9111 - val_loss: 0.2761 - val_accuracy: 0.9421\n",
            "Epoch 8/10\n",
            "1869/1875 [============================>.] - ETA: 0s - loss: 0.3400 - accuracy: 0.9141\n",
            "Epoch 8: val_loss did not improve from 0.27177\n",
            "1875/1875 [==============================] - 7s 4ms/step - loss: 0.3401 - accuracy: 0.9141 - val_loss: 0.3010 - val_accuracy: 0.9429\n",
            "Epoch 9/10\n",
            "1860/1875 [============================>.] - ETA: 0s - loss: 0.3395 - accuracy: 0.9163\n",
            "Epoch 9: val_loss did not improve from 0.27177\n",
            "1875/1875 [==============================] - 6s 3ms/step - loss: 0.3391 - accuracy: 0.9163 - val_loss: 0.2826 - val_accuracy: 0.9459\n",
            "Epoch 10/10\n",
            "1875/1875 [==============================] - ETA: 0s - loss: 0.3243 - accuracy: 0.9210\n",
            "Epoch 10: val_loss improved from 0.27177 to 0.26475, saving model to mnist_ditgits_model.h6\n",
            "1875/1875 [==============================] - 9s 5ms/step - loss: 0.3243 - accuracy: 0.9210 - val_loss: 0.2647 - val_accuracy: 0.9438\n"
          ]
        }
      ]
    }
  ]
}