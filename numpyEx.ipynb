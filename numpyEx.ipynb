{
  "nbformat": 4,
  "nbformat_minor": 0,
  "metadata": {
    "colab": {
      "provenance": [],
      "authorship_tag": "ABX9TyPA5dsXXMKPVg0JQgtVPkSQ",
      "include_colab_link": true
    },
    "kernelspec": {
      "name": "python3",
      "display_name": "Python 3"
    },
    "language_info": {
      "name": "python"
    }
  },
  "cells": [
    {
      "cell_type": "markdown",
      "metadata": {
        "id": "view-in-github",
        "colab_type": "text"
      },
      "source": [
        "<a href=\"https://colab.research.google.com/github/JOJUNHYUNG0818/ai/blob/master/numpyEx.ipynb\" target=\"_parent\"><img src=\"https://colab.research.google.com/assets/colab-badge.svg\" alt=\"Open In Colab\"/></a>"
      ]
    },
    {
      "cell_type": "code",
      "execution_count": null,
      "metadata": {
        "colab": {
          "base_uri": "https://localhost:8080/"
        },
        "id": "LBZJtEBJ9BHR",
        "outputId": "fb02980f-5f18-40ce-fc5d-9adfd1d25add"
      },
      "outputs": [
        {
          "output_type": "stream",
          "name": "stdout",
          "text": [
            "[1 2 3 4]\n"
          ]
        }
      ],
      "source": [
        "import numpy as np\n",
        "\n",
        "ndarry=np.array([1,2,3])\n",
        "ndarry=np.arange(100)\n",
        "#print(ndarry)\n",
        "gugu=np.arange(1,10)*3\n",
        "#gugu\n",
        "evenObj=np.arange(2,1001,2)\n",
        "#evenObj\n",
        "aObj=np.linspace(0,1,11)\n",
        "#aObj\n",
        "data=np.array([0,1,2,3,4,5])\n",
        "a7=data.reshape(2,3)\n",
        "#a7\n",
        "a8=np.array([[0,1,2],[3,4,5]])\n",
        "a81=a8.reshape(1,6)\n",
        "#a81\n",
        "a9=np.arange(3)\n",
        "a91=a9.reshape(3,1)\n",
        "a91\n",
        "# 갯수가 모자름\n",
        "\n",
        "a11=np.array([[0,1,2],[3,4,5]])\n",
        "#a11\n",
        "a12=np.ones(20)\n",
        "#a12\n",
        "a13=np.ones(20).reshape(4,5)\n",
        "#a13\n",
        "a14=np.full((10,10),255)\n",
        "#a14\n",
        "a15=np.zeros((3,4))\n",
        "#a15\n",
        "a16=np.array([1,2,3],np.int32)\n",
        "#a16\n",
        "a17=np.array([1,2,3])\n",
        "#print(a17.dtype)\n",
        "a18=np.array(['1','2','3'])\n",
        "#print(a18.dtype)\n",
        "a19=np.array([1,2,3,],np.int16)\n",
        "#print(a19.dtype)\n",
        "#범위값을 초과하여 그값을 뺀나머지 출력\n",
        "a21=np.array([1.1,2.1,3.1],np.int32)\n",
        "#a21\n",
        "a22=np.linspace(0,10,20)\n",
        "#a22\n",
        "a23=np.arange(9).reshape(3,3)\n",
        "#a23\n",
        "a24=np.arange(25).reshape(5,5)\n",
        "#a24[3,2]\n",
        "a25=np.arange(5)\n",
        "#a25[1:3]\n",
        "a26=np.arange(25).reshape(5,5)\n",
        "#a26[1,1:]\n",
        "a27=np.arange(25).reshape(5,5)\n",
        "#a27[:,0:2]\n",
        "a28=np.arange(25).reshape(5, 5)\n",
        "ndarray=a28[1:3,1:3]\n",
        "#ndarray\n",
        "a29 = np.arange(25).reshape(5, 5)\n",
        "#print(ndarray)\n",
        "data=[1,2,3]\n",
        "a30=np.array(data)*10\n",
        "#a30\n",
        "score = np.array([\n",
        "    [10, 20],  # 중간고사\n",
        "    [14, 16]   # 기말고사\n",
        "])\n",
        "a31=score[:,:].mean()\n",
        "#a31\n",
        "#a32=median(score[:,:])\n",
        "#a33\n",
        "a34 = np.array([ -1, 2, -3, 4] )\n",
        "#print(a34[a34[:]<0])\n",
        "#a35\n",
        "a35 = np.array([ -1, 2, -3, 4] )\n",
        "a35[a35[:]<0]=0\n",
        "#print(a35)\n",
        "a36 = np.array([ -1, 2, -3, 4] )\n",
        "a36[a36[:]<0]*=-1\n",
        "#print(a36)\n",
        "a37 = np.array([ -1, 2, -3, 4] )\n",
        "a37[a37[:]<0]-=10\n",
        "a37[a37[:]>0]+=10\n",
        "#print(a37)\n",
        "a38 = [ 1,2,3,4,5]\n",
        "np.random.shuffle(a38)\n",
        "#print(a38)\n",
        "a39 = np.array([4,6,1,2,7] )\n",
        "a=np.argmin(a39)\n",
        "a40 = np.array([10,2,6,5,3,4] )\n",
        "b=np.argmax(a40)\n",
        "#print(a,b)\n",
        "arr = np.array([2, 1, 5, 3, 7, 4, 6, 8])\n",
        "a41=np.sort(arr)\n",
        "#print(a41)\n",
        "arr1 = np.array([1, 2])\n",
        "arr2 = np.array([3, 4])\n",
        "hs=np.hstack((arr1,arr2))\n",
        "vs=np.vstack((arr1,arr2))\n",
        "#print(hs,vs)\n",
        "arr = np.array([ [1, 2], [3, 4] ])\n",
        "a43=arr.flatten()\n",
        "print(a43)\n"
      ]
    }
  ]
}