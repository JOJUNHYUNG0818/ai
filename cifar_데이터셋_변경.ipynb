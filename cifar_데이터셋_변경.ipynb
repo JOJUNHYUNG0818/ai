{
  "cells": [
    {
      "cell_type": "markdown",
      "metadata": {
        "id": "view-in-github",
        "colab_type": "text"
      },
      "source": [
        "<a href=\"https://colab.research.google.com/github/JOJUNHYUNG0818/ai/blob/%2BdeepL/cifar_%EB%8D%B0%EC%9D%B4%ED%84%B0%EC%85%8B_%EB%B3%80%EA%B2%BD.ipynb\" target=\"_parent\"><img src=\"https://colab.research.google.com/assets/colab-badge.svg\" alt=\"Open In Colab\"/></a>"
      ]
    },
    {
      "cell_type": "code",
      "execution_count": 3,
      "id": "23be7064",
      "metadata": {
        "colab": {
          "base_uri": "https://localhost:8080/"
        },
        "id": "23be7064",
        "outputId": "cda17fc6-b616-418a-8f2a-62f5c6cdbcef"
      },
      "outputs": [
        {
          "output_type": "stream",
          "name": "stdout",
          "text": [
            "Model: \"sequential_2\"\n",
            "_________________________________________________________________\n",
            " Layer (type)                Output Shape              Param #   \n",
            "=================================================================\n",
            " conv2d_4 (Conv2D)           (None, 30, 30, 32)        896       \n",
            "                                                                 \n",
            " max_pooling2d_4 (MaxPoolin  (None, 15, 15, 32)        0         \n",
            " g2D)                                                            \n",
            "                                                                 \n",
            " conv2d_5 (Conv2D)           (None, 13, 13, 256)       73984     \n",
            "                                                                 \n",
            " max_pooling2d_5 (MaxPoolin  (None, 6, 6, 256)         0         \n",
            " g2D)                                                            \n",
            "                                                                 \n",
            " flatten_2 (Flatten)         (None, 9216)              0         \n",
            "                                                                 \n",
            " dense_2 (Dense)             (None, 100)               921700    \n",
            "                                                                 \n",
            "=================================================================\n",
            "Total params: 996580 (3.80 MB)\n",
            "Trainable params: 996580 (3.80 MB)\n",
            "Non-trainable params: 0 (0.00 Byte)\n",
            "_________________________________________________________________\n"
          ]
        },
        {
          "output_type": "stream",
          "name": "stderr",
          "text": [
            "WARNING:absl:`lr` is deprecated in Keras optimizer, please use `learning_rate` or use the legacy optimizer, e.g.,tf.keras.optimizers.legacy.Adam.\n"
          ]
        },
        {
          "output_type": "stream",
          "name": "stdout",
          "text": [
            "Epoch 1/5\n",
            "1042/1042 [==============================] - 167s 160ms/step - loss: 3.6633 - accuracy: 0.1555\n",
            "Epoch 2/5\n",
            "1042/1042 [==============================] - 167s 160ms/step - loss: 3.1230 - accuracy: 0.2521\n",
            "Epoch 3/5\n",
            "1042/1042 [==============================] - 165s 159ms/step - loss: 2.9046 - accuracy: 0.2931\n",
            "Epoch 4/5\n",
            "1042/1042 [==============================] - 166s 159ms/step - loss: 2.7681 - accuracy: 0.3209\n",
            "Epoch 5/5\n",
            "1042/1042 [==============================] - 167s 160ms/step - loss: 2.6592 - accuracy: 0.3459\n",
            "313/313 - 10s - loss: 2.6871 - accuracy: 0.3514 - 10s/epoch - 34ms/step\n",
            "Test Loss : 2.6871, Test Accuracy : 35.14%\n"
          ]
        }
      ],
      "source": [
        "import tensorflow as tf\n",
        "import matplotlib.pyplot as plt\n",
        "from tensorflow.keras import datasets, layers, models\n",
        "from tensorflow.keras.preprocessing.image import ImageDataGenerator\n",
        "\n",
        "(x_train, y_train), (x_test, y_test) = tf.keras.datasets.cifar100.load_data()\n",
        "\n",
        "x_train = x_train.reshape((50000, 32, 32, 3))\n",
        "x_test = x_test.reshape((10000, 32, 32, 3))\n",
        "\n",
        "y_train = tf.keras.utils.to_categorical(y_train, 100)\n",
        "y_test = tf.keras.utils.to_categorical(y_test, 100)\n",
        "\n",
        "# ImageDataGenerator Pipeline 을 정의\n",
        "datagen = ImageDataGenerator(\n",
        "            rescale=1./255.,          # 0~1 범위로 normalize\n",
        "            rotation_range=30,        # random rotation\n",
        "            horizontal_flip=True,     # random horizontal flip\n",
        "            vertical_flip=False,      # random vertical flip\n",
        "            width_shift_range=0.05,   # random width shift(5%)\n",
        "            height_shift_range=0.05,  # random height shift(5%)\n",
        ")\n",
        "\n",
        "BATCH_SIZE = 48\n",
        "EPOCHS = 5\n",
        "\n",
        "model = models.Sequential()\n",
        "model.add(layers.Conv2D(32, (3, 3), activation='relu', input_shape=(32, 32, 3)))\n",
        "model.add(layers.MaxPooling2D((2, 2)))\n",
        "model.add(layers.Conv2D(256, (3, 3), activation='relu'))\n",
        "model.add(layers.MaxPooling2D((2, 2)))\n",
        "model.add(layers.Flatten())\n",
        "model.add(layers.Dense(100, activation='softmax'))\n",
        "\n",
        "model.summary()\n",
        "\n",
        "opt = tf.keras.optimizers.Adam(lr=1e-3)\n",
        "model.compile(optimizer=opt,\n",
        "             loss='categorical_crossentropy',\n",
        "             metrics=['accuracy'])\n",
        "\n",
        "model.fit(datagen.flow(x_train, y_train, batch_size=BATCH_SIZE),\n",
        "          epochs=EPOCHS,\n",
        "          shuffle=True)\n",
        "\n",
        "x_test = x_test / 255.\n",
        "test_loss, test_acc = model.evaluate(x_test, y_test, verbose=2)\n",
        "print('Test Loss : {:.4f}, Test Accuracy : {:.2f}%'.format(test_loss, 100.*test_acc))"
      ]
    },
    {
      "cell_type": "code",
      "execution_count": null,
      "id": "624fc22f",
      "metadata": {
        "id": "624fc22f"
      },
      "outputs": [],
      "source": []
    }
  ],
  "metadata": {
    "kernelspec": {
      "display_name": "Python 3 (ipykernel)",
      "language": "python",
      "name": "python3"
    },
    "language_info": {
      "codemirror_mode": {
        "name": "ipython",
        "version": 3
      },
      "file_extension": ".py",
      "mimetype": "text/x-python",
      "name": "python",
      "nbconvert_exporter": "python",
      "pygments_lexer": "ipython3",
      "version": "3.8.12"
    },
    "colab": {
      "provenance": [],
      "include_colab_link": true
    }
  },
  "nbformat": 4,
  "nbformat_minor": 5
}